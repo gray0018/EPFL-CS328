{
 "cells": [
  {
   "cell_type": "markdown",
   "metadata": {},
   "source": [
    "# Homework 1\n",
    "\n",
    "### CS328 — Numerical Methods for Visual Computing\n",
    "- - -\n",
    "\n",
    "**Out** on Wednesday 26/9, **due** on Wednesday 10/10.\n",
    "\n",
    "This notebook contains literate code, i.e. brief fragments of Python surrounded by descriptive text. Please use the same format when submitting your answers. Begin your response to each problem with a <tt>&nbsp;<b>## Solution</b>&nbsp;&nbsp;</tt> markdown cell. Make sure to use the reference Python distribution so that project files can be opened by the TAs. In this course, we use <a href=\"https://www.continuum.io/downloads\">Anaconda</a>, specifically the version based on Python 3.6.\n",
    "\n",
    "<div class=\"alert alert-warning\">\n",
    "Homework assignments in CS328 count towards your final grade and must therefore be done individually.\n",
    "</div>"
   ]
  },
  {
   "cell_type": "markdown",
   "metadata": {},
   "source": [
    "### Prelude\n",
    "\n",
    "The following fragment imports NumPy and Matplotlib and configures the latter to produce nice graphics on modern high-resolution screens. The import statements at the end establish a shorthand notation for the most common integer and floating point formats."
   ]
  },
  {
   "cell_type": "code",
   "execution_count": null,
   "metadata": {
    "collapsed": true
   },
   "outputs": [],
   "source": [
    "%matplotlib inline\n",
    "%config InlineBackend.figure_format='retina'\n",
    "\n",
    "import numpy as np\n",
    "from matplotlib import pyplot as plt\n",
    "\n",
    "from numpy import uint16  as u16\n",
    "from numpy import uint32  as u32\n",
    "from numpy import uint64  as u64\n",
    "from numpy import float16 as f16\n",
    "from numpy import float32 as f32\n",
    "from numpy import float64 as f64"
   ]
  },
  {
   "cell_type": "markdown",
   "metadata": {},
   "source": [
    "Two more definitions: the helper functions ``f2i`` and ``i2f``  below reinterpret floating point values as an integers and vice versa. We'll use these in Problem 3 to access the bit-level representation of an IEEE 754 floating point value."
   ]
  },
  {
   "cell_type": "code",
   "execution_count": null,
   "metadata": {
    "collapsed": true
   },
   "outputs": [],
   "source": [
    "def f2i(value):\n",
    "    ''' Reinterpret floating point value as integer '''\n",
    "    return value.view('u%i' % value.itemsize)\n",
    "\n",
    "def i2f(value):\n",
    "    ''' Reinterpret integer as floating point value '''\n",
    "    return value.view('f%i' % value.itemsize)"
   ]
  },
  {
   "cell_type": "markdown",
   "metadata": {},
   "source": [
    "## Problem 1: Images, slicing, and color balancing (15 pts)\n",
    "\n",
    "The following two lines of code download a portrait photograph from the Wikipedia article on [color balance](https://en.wikipedia.org/wiki/Color_balance) and store it in a single precision NumPy array named ``image``, whose pixels are in the range ``[0.0, 1.0]``."
   ]
  },
  {
   "cell_type": "code",
   "execution_count": null,
   "metadata": {
    "collapsed": true
   },
   "outputs": [],
   "source": [
    "import PIL, requests\n",
    "image = np.array(PIL.Image.open(requests.get('https://goo.gl/VcYNGN', stream=True).raw), dtype = np.float32) / 255"
   ]
  },
  {
   "cell_type": "markdown",
   "metadata": {},
   "source": [
    "Try plotting this image using ``plt.imshow``."
   ]
  },
  {
   "cell_type": "code",
   "execution_count": null,
   "metadata": {
    "collapsed": true
   },
   "outputs": [],
   "source": []
  },
  {
   "cell_type": "markdown",
   "metadata": {},
   "source": [
    "You will notice that the colors are distorted by a strong blue tint. Such intense color casts can lead to unnatural appearance and are usually not desired in portrait photography. In such cases, *color balancing* can be used to post-process the colors of an existing image to e.g. ensure that white objects indeed appear white in the image. One of the simplest kinds of color balancing is known as *white balancing*. Here, we select a region of the image that is known to contain a neutral color, and we then determine the reciprocal of the associated red, green, and blue color values. Afterwards, the color channels of the entire image are scaled by these reciprocals, ensuring that the selected region becomes neutral (i.e. it has similar amounts of red, green, and blue).\n",
    "\n",
    "Note that the woman holds a [color checker](https://en.wikipedia.org/wiki/ColorChecker) in her hands. A color checker consists of an arrangement of colored patches with known color values, and the last row usually contains neutral colors. We will  use the second neutral patch on the bottom left to white-balance this image.\n",
    "\n",
    "**TODO**: Use NumPy slicing operations to crop out the second neutral patch in the last row (counting from the left side) and plot it using ``plt.imshow``. The cropped region should be as large as possible without including the black frame or other patches."
   ]
  },
  {
   "cell_type": "code",
   "execution_count": null,
   "metadata": {
    "collapsed": true
   },
   "outputs": [],
   "source": []
  },
  {
   "cell_type": "markdown",
   "metadata": {},
   "source": [
    "**TODO**: Compute the mean of the R, G, and B color channels over the patch. You should be able to accomplish this with a single function call to ``np.mean``. Print the computed mean using ``print()``."
   ]
  },
  {
   "cell_type": "code",
   "execution_count": null,
   "metadata": {
    "collapsed": true
   },
   "outputs": [],
   "source": []
  },
  {
   "cell_type": "markdown",
   "metadata": {},
   "source": [
    "**TODO**: Now, use *broadcasting* to multiply the image R, G, B channels by the reciprocals of the values computed above and visualize the result using ``plt.imshow``. *Note*: You may need to scale the image by a small amount (e.g. ``0.85``) to prevent pixels overflowing to a value greater than ``1.0``, which will lead to strange color artifacts."
   ]
  },
  {
   "cell_type": "code",
   "execution_count": null,
   "metadata": {
    "collapsed": true
   },
   "outputs": [],
   "source": []
  },
  {
   "cell_type": "markdown",
   "metadata": {},
   "source": [
    "# Problem 2: Triple Birthday Paradox (35 pts)\n",
    "\n",
    "Let us again consider the [Birthday Paradox](https://en.wikipedia.org/wiki/Birthday_problem) that was introduced during the first week's exercise session. In this task, we will study a slightly modified problem that can be summarized with the following question:\n",
    "\n",
    "**What is the probability that at least *three* people in a random set of $n$ people share the same birthday?**\n",
    "\n",
    "In the following, you will develop a simple numerical Python program to solve this problem and then make use of vectorization with NumPy arrays to speed it up. For this reason, you should use the \"magic\" Jupyter function ```%%time``` to profile the execution time of your implementation at every step.\n",
    "\n",
    "## Problem 2.1: Basic Python Implementation (10 pts)\n",
    "\n",
    "**TODO**: Write a basic Python program<a name=\"myfootnote1\"><sup>[1]</sup></a> that estimates of the \"3-birthdays probability\" based on random sampling. \n",
    "\n",
    "Feel free to reuse code from the [first weeks notebook](https://moodle.epfl.ch/mod/resource/view.php?id=959064) to get some inspiration on how you would do this.\n",
    "The structure should stay exactly the same:\n",
    "1. Choose $n$ random birthdays (i.e. integers)\n",
    "2. Check if *three* of the birthdays are the same\n",
    "3. Repeat this process $K$ times and keep track of how many times it was true\n",
    "4. Return the ratio between \"number successful events\" and \"total number events\" ($K$)\n",
    "\n",
    "When you chose $K$ large enough, a simulation like this should give you a good estimate of the true probability.\n",
    "\n",
    "Remember that you can generate random integers by using *```randint```* from the *```random```* module:\n",
    "\n",
    "```python\n",
    "import random as rnd\n",
    "a = rnd.randint(0, 10) # Random integer between 0 and 10 (including)\n",
    "```\n",
    "[[1]](#myfootnote1) Do **not** use any of the NumPy, SciPy, ... libraries in this part of the exercise—only pure Python is allowed."
   ]
  },
  {
   "cell_type": "code",
   "execution_count": null,
   "metadata": {
    "collapsed": true
   },
   "outputs": [],
   "source": [
    "## TODO... Fill in the inner loop of the following function\n",
    "\n",
    "# For n people, compute an approximation of the probability that at\n",
    "# least three people share the same birthday, using K iterations\n",
    "def birthday_paradox_basic(n, K):\n",
    "    counter = 0 # Keep track of how often the statement is true\n",
    "    \n",
    "    # Perform K iterations of the same experiment.\n",
    "    for it in range(K):\n",
    "        success = True # Replace!\n",
    "        \n",
    "        if success:\n",
    "            counter += 1  \n",
    "    \n",
    "    # Return average probability\n",
    "    return counter / K"
   ]
  },
  {
   "cell_type": "markdown",
   "metadata": {},
   "source": [
    "To test if your program is operating correctly, try running it for $n=88$ people using a very high value of $K$. This should give you (on average) a probability slightly above $0.5$:"
   ]
  },
  {
   "cell_type": "code",
   "execution_count": null,
   "metadata": {
    "collapsed": true
   },
   "outputs": [],
   "source": []
  },
  {
   "cell_type": "markdown",
   "metadata": {},
   "source": [
    "**TODO**: Finally, profile the running time of the implementation and report how much time it took for $K=100000$."
   ]
  },
  {
   "cell_type": "code",
   "execution_count": null,
   "metadata": {
    "collapsed": true
   },
   "outputs": [],
   "source": []
  },
  {
   "cell_type": "markdown",
   "metadata": {},
   "source": [
    "## Problem 2.2: Vectorized implementation using NumPy (15 pts)\n",
    "\n",
    "As you likely noticed, an implementation in pure Python is rather slow! As a frame of reference: an implementation with list comprehensions (as was done during the exercise session) can easily take half a minute to complete for high $K$ such as above. Creating lists of random integers is a particularly slow operation that can be considerably accelerated using vectorized NumPy functions that process entire NumPy arrays at a once.\n",
    "\n",
    "**TODO**: Write another function that computes the same result, but this time, replace the inner part of the \"*```for it in range(K)```*\" loop with a combination of NumPy array functions.<a name=\"myfootnote2\"><sup>[2]</sup></a>\n",
    "\n",
    "Here are a number of NumPy functions that you may find helpful:\n",
    "* ```np.random.randint```\n",
    "* ```np.bincount```\n",
    "* ```np.unique```\n",
    "* ```np.min, np.max```\n",
    "* ```np.arange```\n",
    "* ```np.any```\n",
    "\n",
    "You can read about these in the [NumPy Documentation](https://docs.scipy.org/doc/numpy-1.13.0/reference/index.html).\n",
    "\n",
    "[[2]](#myfootnote2) In this part of the exercise, do **not** use Python lists and list comprehensions, and do not explicitly iterate over the days of the year. Do **not** use ```np.vectorize``` (or similar constructs) that merely emulate vectorization using a slow Python ``for`` loop internally."
   ]
  },
  {
   "cell_type": "code",
   "execution_count": null,
   "metadata": {
    "collapsed": true
   },
   "outputs": [],
   "source": [
    "## TODO... Fill in the inner loop of the following function\n",
    "\n",
    "def birthday_paradox_numpy(n, K):\n",
    "    counter = 0 # Keep track of how often the statement is true\n",
    "    \n",
    "    # Perform K iterations of the same experiment.\n",
    "    for it in range(K):\n",
    "        success = True # Replace!\n",
    "        \n",
    "        if success:\n",
    "            counter += 1  \n",
    "    \n",
    "    # Return average probability\n",
    "    return counter / K"
   ]
  },
  {
   "cell_type": "markdown",
   "metadata": {},
   "source": [
    "**TODO**: Profile the running time of the implementation vectorized implementation for $K=100000$ and determine the speedup."
   ]
  },
  {
   "cell_type": "code",
   "execution_count": null,
   "metadata": {
    "collapsed": true
   },
   "outputs": [],
   "source": []
  },
  {
   "cell_type": "markdown",
   "metadata": {},
   "source": [
    "## Problem 2.3: Hacker points (5 points)\n",
    "-- --\n",
    "\n",
    "<div class=\"alert alert-warning\">\n",
    "Exercises designated as *hacker points* are undervalued problems that are completely optional (i.e. there is no need to do them to get full grades in this course). Partial answers don't count—hacker points are either awarded in full or not at all.</div> <br/>Although the vectorized implementation is a tremendous improvement, it still contains a loop over a potentially large number of virtual experiments. We can do better! Modify your previous implementation so that it fully relies on vectorized NumPy functions and contains no more loops.\n",
    "\n",
    "As above, do **not** use ```np.vectorize``` (or similar constructs) that merely emulate vectorization using a slow Python ``for`` loop internally."
   ]
  },
  {
   "cell_type": "markdown",
   "metadata": {},
   "source": [
    "## Problem 3: Measuring error using ULPs (25 pts)\n",
    "-- --\n",
    "\n",
    "A special property of the IEEE754 floating point specification is that contiguous ranges of floating point numbers are also contiguous when re-interpreted as unsiged integers, e.g. by after applying the function ``f2i`` defined above. See the next figure for an illustration of this."
   ]
  },
  {
   "cell_type": "markdown",
   "metadata": {},
   "source": [
    "<img src=\"data:image/png;base64,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\"/>"
   ]
  },
  {
   "cell_type": "markdown",
   "metadata": {},
   "source": [
    "Use this property along with the functions ``f2i`` and ``i2f`` and the aliases ``f16`` etc. defined above to answer the following questions:"
   ]
  },
  {
   "cell_type": "markdown",
   "metadata": {},
   "source": [
    "1. How many floating point values are located between the values ``1`` and ``2``, including the endpoints? How about ``1001`` and ``1002`` ? Give answers for 16, 32, and 64 bit precision variants. <br><br>\n",
    "\n",
    "2. How large is 1 ULP for the value $\\pi$ expressed in 64 bit arithmetic? Remember that one ULP was defined as the jump that occurred when changing the last mantissa bit from a ``1`` to a ``0`` (or vice versa).<br><br>\n",
    "\n",
    "3. Suppose that we compute the surface area of the earth from its radius of $\\approx 6.353\\cdot 10^6m$ using the expression $A=4\\pi r^2$. Assuming that the earth is perfectly spherical, and that the discretization of $\\pi$ is the only source of error in this computation, bound the absolute error in square meters."
   ]
  },
  {
   "cell_type": "code",
   "execution_count": null,
   "metadata": {
    "collapsed": true
   },
   "outputs": [],
   "source": []
  },
  {
   "cell_type": "markdown",
   "metadata": {},
   "source": [
    "## Problem 4: Series approximations (25 pts)\n",
    "-- --"
   ]
  },
  {
   "cell_type": "markdown",
   "metadata": {},
   "source": [
    "In Lecture 1, we saw how various numerical issues could occur due to the floating point number representation.  \n",
    "Consider the power series representation of the sine function:\n",
    "\n",
    "$$\n",
    "\\sin(x)=x-\\frac{x^3}{3!}+\\frac{x^5}{5!}-\\frac{x^7}{7!}+\\cdots\n",
    "$$"
   ]
  },
  {
   "cell_type": "markdown",
   "metadata": {
    "collapsed": true
   },
   "source": [
    "1. Evaluate the power series at \\(x=20\\) using the first 100 terms and compute the absolute and relative error (you can assume that ``np.sin`` is accurate). *Hint*: the factorial function is provided in ``scipy.special``.<br><br>\n",
    "\n",
    "2. Express the error as an integer number of ULPs (see also Problem 3) -- in other words, how many floating point numbers are between the true and the approximate answer?<br><br>\n",
    "\n",
    "3. Now, evaluate the exponential function at ``x=30`` using the same approach: using its corresponding power series, and assuming that ``np.exp`` is accurate. Specify the absolute and relative error. What do you observe? Why is this the case?<br><br>\n",
    "\n",
    "4. List three different kinds of numerical problems that can arise when evaluating the above two power series with very many terms (e.g. thousands), and what parts of the expression specifically cause them."
   ]
  },
  {
   "cell_type": "markdown",
   "metadata": {},
   "source": [
    "**Hint**: the first 20 coefficients of the sine power series representation look like this:\n",
    "\n",
    "<img src=\"data:image/png;base64,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\"/>"
   ]
  },
  {
   "cell_type": "code",
   "execution_count": null,
   "metadata": {
    "collapsed": true
   },
   "outputs": [],
   "source": []
  }
 ],
 "metadata": {
  "anaconda-cloud": {},
  "kernelspec": {
   "display_name": "Python 3",
   "language": "python",
   "name": "python3"
  },
  "language_info": {
   "codemirror_mode": {
    "name": "ipython",
    "version": 3
   },
   "file_extension": ".py",
   "mimetype": "text/x-python",
   "name": "python",
   "nbconvert_exporter": "python",
   "pygments_lexer": "ipython3",
   "version": "3.6.1"
  },
  "toc": {
   "nav_menu": {},
   "number_sections": true,
   "sideBar": true,
   "skip_h1_title": true,
   "title_cell": "Table of Contents",
   "title_sidebar": "Contents",
   "toc_cell": false,
   "toc_position": {},
   "toc_section_display": true,
   "toc_window_display": false
  },
  "varInspector": {
   "cols": {
    "lenName": "30",
    "lenType": 16,
    "lenVar": 40
   },
   "kernels_config": {
    "python": {
     "delete_cmd_postfix": "",
     "delete_cmd_prefix": "del ",
     "library": "var_list.py",
     "varRefreshCmd": "print(var_dic_list())"
    },
    "r": {
     "delete_cmd_postfix": ") ",
     "delete_cmd_prefix": "rm(",
     "library": "var_list.r",
     "varRefreshCmd": "cat(var_dic_list()) "
    }
   },
   "types_to_exclude": [
    "module",
    "function",
    "builtin_function_or_method",
    "instance",
    "_Feature"
   ],
   "window_display": false
  }
 },
 "nbformat": 4,
 "nbformat_minor": 1
}
